{
 "cells": [
  {
   "cell_type": "code",
   "execution_count": 68,
   "metadata": {},
   "outputs": [],
   "source": [
    "import pandas as pd\n",
    "import numpy as np\n",
    "import matplotlib.pyplot as plt\n",
    "import seaborn as sns"
   ]
  },
  {
   "cell_type": "code",
   "execution_count": 69,
   "metadata": {},
   "outputs": [
    {
     "data": {
      "text/html": [
       "<div>\n",
       "<style scoped>\n",
       "    .dataframe tbody tr th:only-of-type {\n",
       "        vertical-align: middle;\n",
       "    }\n",
       "\n",
       "    .dataframe tbody tr th {\n",
       "        vertical-align: top;\n",
       "    }\n",
       "\n",
       "    .dataframe thead th {\n",
       "        text-align: right;\n",
       "    }\n",
       "</style>\n",
       "<table border=\"1\" class=\"dataframe\">\n",
       "  <thead>\n",
       "    <tr style=\"text-align: right;\">\n",
       "      <th></th>\n",
       "      <th>ClimbRate</th>\n",
       "      <th>Sgz</th>\n",
       "      <th>P</th>\n",
       "      <th>Q</th>\n",
       "      <th>CurPitch</th>\n",
       "      <th>CurRoll</th>\n",
       "      <th>AbsRoll</th>\n",
       "      <th>DiffClb</th>\n",
       "      <th>DiffRollRate</th>\n",
       "      <th>DiffDiffClb</th>\n",
       "      <th>...</th>\n",
       "      <th>DiffSeTime8</th>\n",
       "      <th>DiffSeTime9</th>\n",
       "      <th>DiffSeTime10</th>\n",
       "      <th>DiffSeTime11</th>\n",
       "      <th>DiffSeTime12</th>\n",
       "      <th>DiffSeTime13</th>\n",
       "      <th>DiffSeTime14</th>\n",
       "      <th>Alpha</th>\n",
       "      <th>Se</th>\n",
       "      <th>Goal</th>\n",
       "    </tr>\n",
       "  </thead>\n",
       "  <tbody>\n",
       "    <tr>\n",
       "      <th>0</th>\n",
       "      <td>-17</td>\n",
       "      <td>-6</td>\n",
       "      <td>-0.03</td>\n",
       "      <td>0.14</td>\n",
       "      <td>0.59</td>\n",
       "      <td>-0.5</td>\n",
       "      <td>-11</td>\n",
       "      <td>-9</td>\n",
       "      <td>0.015</td>\n",
       "      <td>-0.2</td>\n",
       "      <td>...</td>\n",
       "      <td>0.0</td>\n",
       "      <td>0.0</td>\n",
       "      <td>0.0</td>\n",
       "      <td>0.000</td>\n",
       "      <td>0.0</td>\n",
       "      <td>0.000</td>\n",
       "      <td>0.0</td>\n",
       "      <td>0.6</td>\n",
       "      <td>0.021</td>\n",
       "      <td>-0.0008</td>\n",
       "    </tr>\n",
       "    <tr>\n",
       "      <th>1</th>\n",
       "      <td>-791</td>\n",
       "      <td>15</td>\n",
       "      <td>-0.28</td>\n",
       "      <td>-0.34</td>\n",
       "      <td>1.11</td>\n",
       "      <td>0.9</td>\n",
       "      <td>-10</td>\n",
       "      <td>27</td>\n",
       "      <td>-0.002</td>\n",
       "      <td>4.7</td>\n",
       "      <td>...</td>\n",
       "      <td>0.0</td>\n",
       "      <td>0.0</td>\n",
       "      <td>0.0</td>\n",
       "      <td>0.000</td>\n",
       "      <td>0.0</td>\n",
       "      <td>0.000</td>\n",
       "      <td>0.0</td>\n",
       "      <td>0.4</td>\n",
       "      <td>0.013</td>\n",
       "      <td>-0.0009</td>\n",
       "    </tr>\n",
       "    <tr>\n",
       "      <th>2</th>\n",
       "      <td>-46</td>\n",
       "      <td>48</td>\n",
       "      <td>-0.42</td>\n",
       "      <td>0.07</td>\n",
       "      <td>0.57</td>\n",
       "      <td>0.6</td>\n",
       "      <td>-5</td>\n",
       "      <td>-8</td>\n",
       "      <td>-0.008</td>\n",
       "      <td>0.0</td>\n",
       "      <td>...</td>\n",
       "      <td>0.0</td>\n",
       "      <td>0.0</td>\n",
       "      <td>0.0</td>\n",
       "      <td>0.000</td>\n",
       "      <td>0.0</td>\n",
       "      <td>0.000</td>\n",
       "      <td>0.0</td>\n",
       "      <td>0.5</td>\n",
       "      <td>0.019</td>\n",
       "      <td>-0.0005</td>\n",
       "    </tr>\n",
       "    <tr>\n",
       "      <th>3</th>\n",
       "      <td>496</td>\n",
       "      <td>-5</td>\n",
       "      <td>-0.21</td>\n",
       "      <td>-0.04</td>\n",
       "      <td>0.03</td>\n",
       "      <td>-0.5</td>\n",
       "      <td>-7</td>\n",
       "      <td>6</td>\n",
       "      <td>-0.002</td>\n",
       "      <td>-0.1</td>\n",
       "      <td>...</td>\n",
       "      <td>0.0</td>\n",
       "      <td>0.0</td>\n",
       "      <td>0.0</td>\n",
       "      <td>0.001</td>\n",
       "      <td>0.0</td>\n",
       "      <td>0.001</td>\n",
       "      <td>0.0</td>\n",
       "      <td>0.5</td>\n",
       "      <td>0.017</td>\n",
       "      <td>-0.0005</td>\n",
       "    </tr>\n",
       "    <tr>\n",
       "      <th>4</th>\n",
       "      <td>-124</td>\n",
       "      <td>16</td>\n",
       "      <td>-0.02</td>\n",
       "      <td>0.05</td>\n",
       "      <td>0.61</td>\n",
       "      <td>-0.2</td>\n",
       "      <td>-9</td>\n",
       "      <td>-3</td>\n",
       "      <td>0.000</td>\n",
       "      <td>0.0</td>\n",
       "      <td>...</td>\n",
       "      <td>0.0</td>\n",
       "      <td>0.0</td>\n",
       "      <td>0.0</td>\n",
       "      <td>0.000</td>\n",
       "      <td>0.0</td>\n",
       "      <td>0.000</td>\n",
       "      <td>0.0</td>\n",
       "      <td>0.5</td>\n",
       "      <td>0.018</td>\n",
       "      <td>-0.0006</td>\n",
       "    </tr>\n",
       "  </tbody>\n",
       "</table>\n",
       "<p>5 rows × 41 columns</p>\n",
       "</div>"
      ],
      "text/plain": [
       "   ClimbRate  Sgz     P     Q  CurPitch  CurRoll  AbsRoll  DiffClb  \\\n",
       "0        -17   -6 -0.03  0.14      0.59     -0.5      -11       -9   \n",
       "1       -791   15 -0.28 -0.34      1.11      0.9      -10       27   \n",
       "2        -46   48 -0.42  0.07      0.57      0.6       -5       -8   \n",
       "3        496   -5 -0.21 -0.04      0.03     -0.5       -7        6   \n",
       "4       -124   16 -0.02  0.05      0.61     -0.2       -9       -3   \n",
       "\n",
       "   DiffRollRate  DiffDiffClb  ...  DiffSeTime8  DiffSeTime9  DiffSeTime10  \\\n",
       "0         0.015         -0.2  ...          0.0          0.0           0.0   \n",
       "1        -0.002          4.7  ...          0.0          0.0           0.0   \n",
       "2        -0.008          0.0  ...          0.0          0.0           0.0   \n",
       "3        -0.002         -0.1  ...          0.0          0.0           0.0   \n",
       "4         0.000          0.0  ...          0.0          0.0           0.0   \n",
       "\n",
       "   DiffSeTime11  DiffSeTime12  DiffSeTime13  DiffSeTime14  Alpha     Se  \\\n",
       "0         0.000           0.0         0.000           0.0    0.6  0.021   \n",
       "1         0.000           0.0         0.000           0.0    0.4  0.013   \n",
       "2         0.000           0.0         0.000           0.0    0.5  0.019   \n",
       "3         0.001           0.0         0.001           0.0    0.5  0.017   \n",
       "4         0.000           0.0         0.000           0.0    0.5  0.018   \n",
       "\n",
       "     Goal  \n",
       "0 -0.0008  \n",
       "1 -0.0009  \n",
       "2 -0.0005  \n",
       "3 -0.0005  \n",
       "4 -0.0006  \n",
       "\n",
       "[5 rows x 41 columns]"
      ]
     },
     "execution_count": 69,
     "metadata": {},
     "output_type": "execute_result"
    }
   ],
   "source": [
    "df = pd.read_csv(\"data/ailerons.csv\")\n",
    "df.head()"
   ]
  },
  {
   "cell_type": "code",
   "execution_count": 70,
   "metadata": {},
   "outputs": [
    {
     "data": {
      "text/plain": [
       "Index(['ClimbRate', 'Sgz', 'P', 'Q', 'CurPitch', 'CurRoll', 'AbsRoll',\n",
       "       'DiffClb', 'DiffRollRate', 'DiffDiffClb', 'SeTime1', 'SeTime2',\n",
       "       'SeTime3', 'SeTime4', 'SeTime5', 'SeTime6', 'SeTime7', 'SeTime8',\n",
       "       'SeTime9', 'SeTime10', 'SeTime11', 'SeTime12', 'SeTime13', 'SeTime14',\n",
       "       'DiffSeTime1', 'DiffSeTime2', 'DiffSeTime3', 'DiffSeTime4',\n",
       "       'DiffSeTime5', 'DiffSeTime6', 'DiffSeTime7', 'DiffSeTime8',\n",
       "       'DiffSeTime9', 'DiffSeTime10', 'DiffSeTime11', 'DiffSeTime12',\n",
       "       'DiffSeTime13', 'DiffSeTime14', 'Alpha', 'Se', 'Goal'],\n",
       "      dtype='object')"
      ]
     },
     "execution_count": 70,
     "metadata": {},
     "output_type": "execute_result"
    }
   ],
   "source": [
    "df.columns"
   ]
  },
  {
   "cell_type": "code",
   "execution_count": 71,
   "metadata": {},
   "outputs": [
    {
     "data": {
      "text/html": [
       "<div>\n",
       "<style scoped>\n",
       "    .dataframe tbody tr th:only-of-type {\n",
       "        vertical-align: middle;\n",
       "    }\n",
       "\n",
       "    .dataframe tbody tr th {\n",
       "        vertical-align: top;\n",
       "    }\n",
       "\n",
       "    .dataframe thead th {\n",
       "        text-align: right;\n",
       "    }\n",
       "</style>\n",
       "<table border=\"1\" class=\"dataframe\">\n",
       "  <thead>\n",
       "    <tr style=\"text-align: right;\">\n",
       "      <th></th>\n",
       "      <th>ClimbRate</th>\n",
       "      <th>Sgz</th>\n",
       "      <th>P</th>\n",
       "      <th>Q</th>\n",
       "      <th>CurPitch</th>\n",
       "      <th>CurRoll</th>\n",
       "      <th>AbsRoll</th>\n",
       "      <th>DiffClb</th>\n",
       "      <th>DiffRollRate</th>\n",
       "      <th>DiffDiffClb</th>\n",
       "      <th>...</th>\n",
       "      <th>DiffSeTime8</th>\n",
       "      <th>DiffSeTime9</th>\n",
       "      <th>DiffSeTime10</th>\n",
       "      <th>DiffSeTime11</th>\n",
       "      <th>DiffSeTime12</th>\n",
       "      <th>DiffSeTime13</th>\n",
       "      <th>DiffSeTime14</th>\n",
       "      <th>Alpha</th>\n",
       "      <th>Se</th>\n",
       "      <th>Goal</th>\n",
       "    </tr>\n",
       "  </thead>\n",
       "  <tbody>\n",
       "    <tr>\n",
       "      <th>count</th>\n",
       "      <td>13750.000000</td>\n",
       "      <td>13750.000000</td>\n",
       "      <td>13750.000000</td>\n",
       "      <td>13750.000000</td>\n",
       "      <td>13750.000000</td>\n",
       "      <td>13750.000000</td>\n",
       "      <td>13750.000000</td>\n",
       "      <td>13750.000000</td>\n",
       "      <td>13750.000000</td>\n",
       "      <td>13750.000000</td>\n",
       "      <td>...</td>\n",
       "      <td>13750.000000</td>\n",
       "      <td>13750.000000</td>\n",
       "      <td>1.375000e+04</td>\n",
       "      <td>13750.000000</td>\n",
       "      <td>1.375000e+04</td>\n",
       "      <td>13750.000000</td>\n",
       "      <td>1.375000e+04</td>\n",
       "      <td>13750.000000</td>\n",
       "      <td>13750.000000</td>\n",
       "      <td>13750.000000</td>\n",
       "    </tr>\n",
       "    <tr>\n",
       "      <th>mean</th>\n",
       "      <td>-11.102255</td>\n",
       "      <td>-12.599564</td>\n",
       "      <td>0.005937</td>\n",
       "      <td>0.061193</td>\n",
       "      <td>0.629409</td>\n",
       "      <td>0.061825</td>\n",
       "      <td>-11.040218</td>\n",
       "      <td>-0.931273</td>\n",
       "      <td>-0.000953</td>\n",
       "      <td>-0.052305</td>\n",
       "      <td>...</td>\n",
       "      <td>0.000000</td>\n",
       "      <td>-0.000102</td>\n",
       "      <td>-5.090909e-07</td>\n",
       "      <td>-0.000101</td>\n",
       "      <td>-9.454545e-07</td>\n",
       "      <td>-0.000097</td>\n",
       "      <td>-6.545455e-07</td>\n",
       "      <td>0.623549</td>\n",
       "      <td>0.022005</td>\n",
       "      <td>-0.000872</td>\n",
       "    </tr>\n",
       "    <tr>\n",
       "      <th>std</th>\n",
       "      <td>260.214455</td>\n",
       "      <td>25.754565</td>\n",
       "      <td>0.303960</td>\n",
       "      <td>0.118482</td>\n",
       "      <td>0.313693</td>\n",
       "      <td>0.969701</td>\n",
       "      <td>4.146306</td>\n",
       "      <td>10.390653</td>\n",
       "      <td>0.013245</td>\n",
       "      <td>1.121061</td>\n",
       "      <td>...</td>\n",
       "      <td>0.000012</td>\n",
       "      <td>0.000619</td>\n",
       "      <td>8.312241e-05</td>\n",
       "      <td>0.000642</td>\n",
       "      <td>6.089718e-05</td>\n",
       "      <td>0.000620</td>\n",
       "      <td>4.263667e-05</td>\n",
       "      <td>0.196780</td>\n",
       "      <td>0.006963</td>\n",
       "      <td>0.000408</td>\n",
       "    </tr>\n",
       "    <tr>\n",
       "      <th>min</th>\n",
       "      <td>-975.000000</td>\n",
       "      <td>-99.000000</td>\n",
       "      <td>-1.530000</td>\n",
       "      <td>-0.540000</td>\n",
       "      <td>-0.420000</td>\n",
       "      <td>-3.100000</td>\n",
       "      <td>-23.000000</td>\n",
       "      <td>-62.000000</td>\n",
       "      <td>-0.099000</td>\n",
       "      <td>-8.800000</td>\n",
       "      <td>...</td>\n",
       "      <td>-0.001000</td>\n",
       "      <td>-0.006000</td>\n",
       "      <td>-6.000000e-03</td>\n",
       "      <td>-0.006000</td>\n",
       "      <td>-4.000000e-03</td>\n",
       "      <td>-0.006000</td>\n",
       "      <td>-3.000000e-03</td>\n",
       "      <td>0.400000</td>\n",
       "      <td>0.012000</td>\n",
       "      <td>-0.003600</td>\n",
       "    </tr>\n",
       "    <tr>\n",
       "      <th>25%</th>\n",
       "      <td>-178.000000</td>\n",
       "      <td>-29.000000</td>\n",
       "      <td>-0.220000</td>\n",
       "      <td>-0.020000</td>\n",
       "      <td>0.420000</td>\n",
       "      <td>-0.600000</td>\n",
       "      <td>-14.000000</td>\n",
       "      <td>-8.000000</td>\n",
       "      <td>-0.009000</td>\n",
       "      <td>-0.300000</td>\n",
       "      <td>...</td>\n",
       "      <td>0.000000</td>\n",
       "      <td>0.000000</td>\n",
       "      <td>0.000000e+00</td>\n",
       "      <td>0.000000</td>\n",
       "      <td>0.000000e+00</td>\n",
       "      <td>0.000000</td>\n",
       "      <td>0.000000e+00</td>\n",
       "      <td>0.500000</td>\n",
       "      <td>0.018000</td>\n",
       "      <td>-0.001100</td>\n",
       "    </tr>\n",
       "    <tr>\n",
       "      <th>50%</th>\n",
       "      <td>-21.000000</td>\n",
       "      <td>-13.000000</td>\n",
       "      <td>0.020000</td>\n",
       "      <td>0.060000</td>\n",
       "      <td>0.610000</td>\n",
       "      <td>0.200000</td>\n",
       "      <td>-11.000000</td>\n",
       "      <td>-1.000000</td>\n",
       "      <td>-0.001000</td>\n",
       "      <td>-0.100000</td>\n",
       "      <td>...</td>\n",
       "      <td>0.000000</td>\n",
       "      <td>0.000000</td>\n",
       "      <td>0.000000e+00</td>\n",
       "      <td>0.000000</td>\n",
       "      <td>0.000000e+00</td>\n",
       "      <td>0.000000</td>\n",
       "      <td>0.000000e+00</td>\n",
       "      <td>0.600000</td>\n",
       "      <td>0.020000</td>\n",
       "      <td>-0.000800</td>\n",
       "    </tr>\n",
       "    <tr>\n",
       "      <th>75%</th>\n",
       "      <td>158.000000</td>\n",
       "      <td>3.000000</td>\n",
       "      <td>0.230000</td>\n",
       "      <td>0.130000</td>\n",
       "      <td>0.800000</td>\n",
       "      <td>0.700000</td>\n",
       "      <td>-7.000000</td>\n",
       "      <td>6.000000</td>\n",
       "      <td>0.008000</td>\n",
       "      <td>0.200000</td>\n",
       "      <td>...</td>\n",
       "      <td>0.000000</td>\n",
       "      <td>0.000000</td>\n",
       "      <td>0.000000e+00</td>\n",
       "      <td>0.000000</td>\n",
       "      <td>0.000000e+00</td>\n",
       "      <td>0.000000</td>\n",
       "      <td>0.000000e+00</td>\n",
       "      <td>0.700000</td>\n",
       "      <td>0.023000</td>\n",
       "      <td>-0.000600</td>\n",
       "    </tr>\n",
       "    <tr>\n",
       "      <th>max</th>\n",
       "      <td>977.000000</td>\n",
       "      <td>94.000000</td>\n",
       "      <td>1.060000</td>\n",
       "      <td>0.620000</td>\n",
       "      <td>2.580000</td>\n",
       "      <td>2.900000</td>\n",
       "      <td>-3.000000</td>\n",
       "      <td>46.000000</td>\n",
       "      <td>0.056000</td>\n",
       "      <td>15.500000</td>\n",
       "      <td>...</td>\n",
       "      <td>0.001000</td>\n",
       "      <td>0.003000</td>\n",
       "      <td>6.000000e-03</td>\n",
       "      <td>0.005000</td>\n",
       "      <td>2.000000e-03</td>\n",
       "      <td>0.007000</td>\n",
       "      <td>1.000000e-03</td>\n",
       "      <td>2.000000</td>\n",
       "      <td>0.073000</td>\n",
       "      <td>0.000000</td>\n",
       "    </tr>\n",
       "  </tbody>\n",
       "</table>\n",
       "<p>8 rows × 41 columns</p>\n",
       "</div>"
      ],
      "text/plain": [
       "          ClimbRate           Sgz             P             Q      CurPitch  \\\n",
       "count  13750.000000  13750.000000  13750.000000  13750.000000  13750.000000   \n",
       "mean     -11.102255    -12.599564      0.005937      0.061193      0.629409   \n",
       "std      260.214455     25.754565      0.303960      0.118482      0.313693   \n",
       "min     -975.000000    -99.000000     -1.530000     -0.540000     -0.420000   \n",
       "25%     -178.000000    -29.000000     -0.220000     -0.020000      0.420000   \n",
       "50%      -21.000000    -13.000000      0.020000      0.060000      0.610000   \n",
       "75%      158.000000      3.000000      0.230000      0.130000      0.800000   \n",
       "max      977.000000     94.000000      1.060000      0.620000      2.580000   \n",
       "\n",
       "            CurRoll       AbsRoll       DiffClb  DiffRollRate   DiffDiffClb  \\\n",
       "count  13750.000000  13750.000000  13750.000000  13750.000000  13750.000000   \n",
       "mean       0.061825    -11.040218     -0.931273     -0.000953     -0.052305   \n",
       "std        0.969701      4.146306     10.390653      0.013245      1.121061   \n",
       "min       -3.100000    -23.000000    -62.000000     -0.099000     -8.800000   \n",
       "25%       -0.600000    -14.000000     -8.000000     -0.009000     -0.300000   \n",
       "50%        0.200000    -11.000000     -1.000000     -0.001000     -0.100000   \n",
       "75%        0.700000     -7.000000      6.000000      0.008000      0.200000   \n",
       "max        2.900000     -3.000000     46.000000      0.056000     15.500000   \n",
       "\n",
       "       ...   DiffSeTime8   DiffSeTime9  DiffSeTime10  DiffSeTime11  \\\n",
       "count  ...  13750.000000  13750.000000  1.375000e+04  13750.000000   \n",
       "mean   ...      0.000000     -0.000102 -5.090909e-07     -0.000101   \n",
       "std    ...      0.000012      0.000619  8.312241e-05      0.000642   \n",
       "min    ...     -0.001000     -0.006000 -6.000000e-03     -0.006000   \n",
       "25%    ...      0.000000      0.000000  0.000000e+00      0.000000   \n",
       "50%    ...      0.000000      0.000000  0.000000e+00      0.000000   \n",
       "75%    ...      0.000000      0.000000  0.000000e+00      0.000000   \n",
       "max    ...      0.001000      0.003000  6.000000e-03      0.005000   \n",
       "\n",
       "       DiffSeTime12  DiffSeTime13  DiffSeTime14         Alpha            Se  \\\n",
       "count  1.375000e+04  13750.000000  1.375000e+04  13750.000000  13750.000000   \n",
       "mean  -9.454545e-07     -0.000097 -6.545455e-07      0.623549      0.022005   \n",
       "std    6.089718e-05      0.000620  4.263667e-05      0.196780      0.006963   \n",
       "min   -4.000000e-03     -0.006000 -3.000000e-03      0.400000      0.012000   \n",
       "25%    0.000000e+00      0.000000  0.000000e+00      0.500000      0.018000   \n",
       "50%    0.000000e+00      0.000000  0.000000e+00      0.600000      0.020000   \n",
       "75%    0.000000e+00      0.000000  0.000000e+00      0.700000      0.023000   \n",
       "max    2.000000e-03      0.007000  1.000000e-03      2.000000      0.073000   \n",
       "\n",
       "               Goal  \n",
       "count  13750.000000  \n",
       "mean      -0.000872  \n",
       "std        0.000408  \n",
       "min       -0.003600  \n",
       "25%       -0.001100  \n",
       "50%       -0.000800  \n",
       "75%       -0.000600  \n",
       "max        0.000000  \n",
       "\n",
       "[8 rows x 41 columns]"
      ]
     },
     "execution_count": 71,
     "metadata": {},
     "output_type": "execute_result"
    }
   ],
   "source": [
    "df.describe()"
   ]
  },
  {
   "cell_type": "code",
   "execution_count": 72,
   "metadata": {},
   "outputs": [
    {
     "data": {
      "text/plain": [
       "(['SeTime1', 'SeTime2'], ['DiffSeTime2', 'DiffSeTime4'])"
      ]
     },
     "execution_count": 72,
     "metadata": {},
     "output_type": "execute_result"
    }
   ],
   "source": [
    "SeTime = [f\"SeTime{i}\" for i in range(1,15)]\n",
    "DiffSeTime = [f\"DiffSeTime{2*i}\" for i in range(1,8)]\n",
    "SeTime[:2],DiffSeTime[:2]"
   ]
  },
  {
   "cell_type": "markdown",
   "metadata": {},
   "source": [
    "Porque os atributos Alpha, Se e [SeTime1 : SeTime14] não contribuem em\n",
    "conjunto para um modelo?"
   ]
  },
  {
   "cell_type": "code",
   "execution_count": 73,
   "metadata": {},
   "outputs": [
    {
     "data": {
      "image/png": "[encoded data removed]",
      "text/plain": [
       "<Figure size 1000x800 with 2 Axes>"
      ]
     },
     "metadata": {},
     "output_type": "display_data"
    }
   ],
   "source": [
    "correlation_matrix = df[[\"Se\",\"Alpha\"] + SeTime].corr()\n",
    "\n",
    "# Plot the heatmap\n",
    "plt.figure(figsize=(10, 8))\n",
    "sns.heatmap(correlation_matrix, annot=True, cmap='coolwarm', center=0)\n",
    "plt.title('Correlation Matrix of SeTime with Other Features')\n",
    "plt.show()"
   ]
  },
  {
   "cell_type": "markdown",
   "metadata": {},
   "source": [
    "Porque os atributos DiffSeTime[2i] para i de 1 a 7 tendem a não contribuir\n",
    "para o modelo?"
   ]
  },
  {
   "cell_type": "code",
   "execution_count": 74,
   "metadata": {},
   "outputs": [
    {
     "data": {
      "text/plain": [
       "DiffSeTime2  DiffSeTime4  DiffSeTime6  DiffSeTime8  DiffSeTime10  DiffSeTime12  DiffSeTime14\n",
       " 0.000        0.000        0.000        0.000        0.000         0.000         0.000          13734\n",
       "-0.001       -0.001       -0.002        0.000        0.000         0.000         0.000              1\n",
       " 0.000       -0.002       -0.004       -0.001        0.000         0.000         0.000              1\n",
       "              0.000       -0.002        0.000        0.000         0.000         0.000              1\n",
       "             -0.001        0.000        0.000        0.000         0.000         0.000              1\n",
       "              0.000        0.000        0.000       -0.004        -0.004        -0.003              1\n",
       "                                                    -0.002        -0.004        -0.001              1\n",
       "                                                    -0.001        -0.001         0.001              1\n",
       "                          -0.001        0.001        0.001         0.000         0.000              1\n",
       "                           0.000        0.000       -0.001         0.000         0.000              1\n",
       "                                                     0.000        -0.003        -0.003              1\n",
       "                                                                  -0.002        -0.002              1\n",
       "                                                                  -0.001         0.000              1\n",
       "                                                                   0.002        -0.001              1\n",
       "                                                     0.006         0.000         0.000              1\n",
       "              0.002        0.000        0.000        0.000         0.000         0.000              1\n",
       " 0.001        0.000        0.000        0.000       -0.006         0.000         0.000              1\n",
       "Name: count, dtype: int64"
      ]
     },
     "execution_count": 74,
     "metadata": {},
     "output_type": "execute_result"
    }
   ],
   "source": [
    "df[DiffSeTime].value_counts()"
   ]
  },
  {
   "cell_type": "code",
   "execution_count": 75,
   "metadata": {},
   "outputs": [],
   "source": [
    "var_to_keep = ['ClimbRate', 'Sgz', 'P', 'Q', 'CurPitch', 'CurRoll', 'AbsRoll', 'DiffClb', 'DiffRollRate', 'DiffDiffClb', \n",
    "           'DiffSeTime1', 'DiffSeTime3', 'DiffSeTime5', 'DiffSeTime7', 'DiffSeTime9', 'DiffSeTime11', 'DiffSeTime13', 'Alpha', 'Se', 'Goal']"
   ]
  },
  {
   "cell_type": "markdown",
   "metadata": {},
   "source": [
    "Observando uma matriz de correlação e pair_plots. Quais os atributos mais\n",
    "promissores para um modelo de predição Linear de Goal?"
   ]
  },
  {
   "cell_type": "code",
   "execution_count": 76,
   "metadata": {},
   "outputs": [
    {
     "data": {
      "image/png": "[encoded data removed]",
      "text/plain": [
       "<Figure size 1000x800 with 2 Axes>"
      ]
     },
     "metadata": {},
     "output_type": "display_data"
    }
   ],
   "source": [
    "correlation_matrix = df[var_to_keep].corr()\n",
    "\n",
    "# Plot the heatmap\n",
    "plt.figure(figsize=(10, 8))\n",
    "sns.heatmap(correlation_matrix, cmap='coolwarm')\n",
    "plt.title('Correlation Matrix of SeTime with Other Features')\n",
    "plt.show()"
   ]
  },
  {
   "cell_type": "code",
   "execution_count": 77,
   "metadata": {},
   "outputs": [],
   "source": [
    "# sns.pairplot(df[var_to_keep].sample(100))"
   ]
  },
  {
   "cell_type": "markdown",
   "metadata": {},
   "source": [
    "Faça um histograma da variável resposta. Qual valor de Goal utilizaria para\n",
    "minimizar a métrica MAE?"
   ]
  },
  {
   "cell_type": "code",
   "execution_count": 78,
   "metadata": {},
   "outputs": [
    {
     "data": {
      "image/png": "[encoded data removed]",
      "text/plain": [
       "<Figure size 640x480 with 1 Axes>"
      ]
     },
     "metadata": {},
     "output_type": "display_data"
    }
   ],
   "source": [
    "sns.histplot(df[\"Goal\"])\n",
    "plt.axvline(x=np.median(df[\"Goal\"]),color=\"red\",linestyle=\"--\")\n",
    "\n",
    "plt.show()"
   ]
  },
  {
   "cell_type": "markdown",
   "metadata": {},
   "source": [
    "Qual valor de Goal utilizaria para minimizar a métrica MSE?"
   ]
  },
  {
   "cell_type": "code",
   "execution_count": 79,
   "metadata": {},
   "outputs": [
    {
     "data": {
      "image/png": "[encoded data removed]",
      "text/plain": [
       "<Figure size 640x480 with 1 Axes>"
      ]
     },
     "metadata": {},
     "output_type": "display_data"
    }
   ],
   "source": [
    "sns.histplot(df[\"Goal\"])\n",
    "plt.axvline(x=np.mean(df[\"Goal\"]),color=\"red\",linestyle=\"--\")\n",
    "\n",
    "plt.show()"
   ]
  },
  {
   "cell_type": "markdown",
   "metadata": {},
   "source": [
    "O modelo de Regressão Linear minimiza qual tipo de erro?\n",
    "MSE"
   ]
  },
  {
   "cell_type": "markdown",
   "metadata": {},
   "source": [
    "Elabore os seguintes modelos de regressão:\n"
   ]
  },
  {
   "cell_type": "code",
   "execution_count": 80,
   "metadata": {},
   "outputs": [],
   "source": [
    "from sklearn.model_selection import train_test_split\n",
    "from sklearn.linear_model import LinearRegression\n",
    "from sklearn.metrics import mean_squared_error, r2_score\n",
    "import statsmodels.api as sm"
   ]
  },
  {
   "cell_type": "code",
   "execution_count": 81,
   "metadata": {},
   "outputs": [],
   "source": [
    "X = df[var_to_keep[:-1]]\n",
    "y = df[\"Goal\"]"
   ]
  },
  {
   "cell_type": "code",
   "execution_count": 82,
   "metadata": {},
   "outputs": [],
   "source": [
    "X_train, X_test, y_train, y_test = train_test_split(X, y, test_size=0.2, random_state=42)"
   ]
  },
  {
   "cell_type": "markdown",
   "metadata": {},
   "source": [
    "Observando os intervalos de confiança dos coeficientes da Regressão Linear,\n",
    "quais atributos devem ser descartados? (Use a biblioteca do statsmodels)"
   ]
  },
  {
   "cell_type": "code",
   "execution_count": 83,
   "metadata": {},
   "outputs": [
    {
     "name": "stdout",
     "output_type": "stream",
     "text": [
      "                            OLS Regression Results                            \n",
      "==============================================================================\n",
      "Dep. Variable:                   Goal   R-squared:                       0.816\n",
      "Model:                            OLS   Adj. R-squared:                  0.816\n",
      "Method:                 Least Squares   F-statistic:                     2567.\n",
      "Date:                Wed, 17 Jul 2024   Prob (F-statistic):               0.00\n",
      "Time:                        17:59:26   Log-Likelihood:                 79634.\n",
      "No. Observations:               11000   AIC:                        -1.592e+05\n",
      "Df Residuals:                   10980   BIC:                        -1.591e+05\n",
      "Df Model:                          19                                         \n",
      "Covariance Type:            nonrobust                                         \n",
      "================================================================================\n",
      "                   coef    std err          t      P>|t|      [0.025      0.975]\n",
      "--------------------------------------------------------------------------------\n",
      "const            0.0003   8.87e-06     38.081      0.000       0.000       0.000\n",
      "ClimbRate     3.349e-07   6.95e-08      4.815      0.000    1.99e-07    4.71e-07\n",
      "Sgz           1.931e-07   7.52e-08      2.568      0.010    4.57e-08     3.4e-07\n",
      "P               -0.0004   5.75e-06    -75.112      0.000      -0.000      -0.000\n",
      "Q             3.517e-05    6.8e-05      0.517      0.605    -9.8e-05       0.000\n",
      "CurPitch         0.0004   7.31e-05      4.952      0.000       0.000       0.001\n",
      "CurRoll      -8.753e-05   2.34e-06    -37.464      0.000   -9.21e-05   -8.29e-05\n",
      "AbsRoll       5.802e-05   8.41e-07     69.006      0.000    5.64e-05    5.97e-05\n",
      "DiffClb      -3.111e-06   5.81e-07     -5.356      0.000   -4.25e-06   -1.97e-06\n",
      "DiffRollRate     0.0024      0.000     13.116      0.000       0.002       0.003\n",
      "DiffDiffClb   1.819e-06   3.13e-06      0.581      0.561   -4.32e-06    7.95e-06\n",
      "DiffSeTime1     -0.0085      0.003     -3.291      0.001      -0.014      -0.003\n",
      "DiffSeTime3     -0.0042      0.004     -1.100      0.272      -0.012       0.003\n",
      "DiffSeTime5     -0.0116      0.004     -3.156      0.002      -0.019      -0.004\n",
      "DiffSeTime7     -0.0169      0.003     -5.131      0.000      -0.023      -0.010\n",
      "DiffSeTime9     -0.0153      0.003     -5.047      0.000      -0.021      -0.009\n",
      "DiffSeTime11    -0.0097      0.003     -3.379      0.001      -0.015      -0.004\n",
      "DiffSeTime13    -0.0121      0.003     -4.101      0.000      -0.018      -0.006\n",
      "Alpha        -7.246e-05   5.53e-05     -1.309      0.190      -0.000     3.6e-05\n",
      "Se              -0.0339      0.002    -13.655      0.000      -0.039      -0.029\n",
      "==============================================================================\n",
      "Omnibus:                     1507.462   Durbin-Watson:                   1.985\n",
      "Prob(Omnibus):                  0.000   Jarque-Bera (JB):             6873.075\n",
      "Skew:                          -0.599   Prob(JB):                         0.00\n",
      "Kurtosis:                       6.682   Cond. No.                     6.59e+05\n",
      "==============================================================================\n",
      "\n",
      "Notes:\n",
      "[1] Standard Errors assume that the covariance matrix of the errors is correctly specified.\n",
      "[2] The condition number is large, 6.59e+05. This might indicate that there are\n",
      "strong multicollinearity or other numerical problems.\n"
     ]
    }
   ],
   "source": [
    "# Adicionar uma constante (intercepto) aos dados\n",
    "X_train_const = sm.add_constant(X_train)\n",
    "X_test_const = sm.add_constant(X_test)\n",
    "\n",
    "# Ajustar o modelo de regressão linear usando statsmodels\n",
    "model_sm = sm.OLS(y_train, X_train_const).fit()\n",
    "\n",
    "# Fazer previsões nos dados de teste\n",
    "y_pred_sm = model_sm.predict(X_test_const)\n",
    "\n",
    "# Resumo do modelo\n",
    "print(model_sm.summary())\n"
   ]
  },
  {
   "cell_type": "code",
   "execution_count": 84,
   "metadata": {},
   "outputs": [
    {
     "name": "stdout",
     "output_type": "stream",
     "text": [
      "\n",
      "Características não significativas (valor p > 0.05):\n",
      "Q              0.604820\n",
      "DiffDiffClb    0.561158\n",
      "DiffSeTime3    0.271533\n",
      "Alpha          0.190435\n",
      "dtype: float64\n"
     ]
    }
   ],
   "source": [
    "p_values = model_sm.pvalues\n",
    "\n",
    "non_significant_features = p_values[p_values > 0.05].index.tolist()\n",
    "\n",
    "print(\"\\nCaracterísticas não significativas (valor p > 0.05):\")\n",
    "print(p_values[p_values > 0.05])"
   ]
  },
  {
   "cell_type": "code",
   "execution_count": 85,
   "metadata": {},
   "outputs": [],
   "source": [
    "results = []"
   ]
  },
  {
   "cell_type": "code",
   "execution_count": 86,
   "metadata": {},
   "outputs": [
    {
     "name": "stdout",
     "output_type": "stream",
     "text": [
      "Linear Regression:\n",
      "Mean Squared Error: 3.015931785415614e-08\n",
      "R^2 Score: 0.827429230899747\n"
     ]
    }
   ],
   "source": [
    "# Criar o modelo de regressão linear\n",
    "linear_model = LinearRegression()\n",
    "\n",
    "# Ajustar o modelo aos dados de treinamento\n",
    "linear_model.fit(X_train, y_train)\n",
    "\n",
    "# Fazer previsões nos dados de teste\n",
    "y_pred_linear = linear_model.predict(X_test)\n",
    "\n",
    "# Avaliar o modelo\n",
    "mse_linear = mean_squared_error(y_test, y_pred_linear)\n",
    "r2_linear = r2_score(y_test, y_pred_linear)\n",
    "\n",
    "print(\"Linear Regression:\")\n",
    "print(f\"Mean Squared Error: {mse_linear}\")\n",
    "print(f\"R^2 Score: {r2_linear}\")\n",
    "\n",
    "results.append(('Linear Regression',  mse_linear, r2_linear,\"Linear\"))"
   ]
  },
  {
   "cell_type": "code",
   "execution_count": 87,
   "metadata": {},
   "outputs": [
    {
     "name": "stdout",
     "output_type": "stream",
     "text": [
      "Ridge Regression (alpha=0.2):\n",
      "Mean Squared Error: 3.0474616126564957e-08\n",
      "R^2 Score: 0.8256251030468329\n",
      "\n",
      "Ridge Regression (alpha=1):\n",
      "Mean Squared Error: 3.070553933461949e-08\n",
      "R^2 Score: 0.824303766940699\n",
      "\n",
      "Ridge Regression (alpha=5):\n",
      "Mean Squared Error: 3.103103672096632e-08\n",
      "R^2 Score: 0.822441280044489\n",
      "\n"
     ]
    }
   ],
   "source": [
    "from sklearn.linear_model import Ridge\n",
    "\n",
    "# Definir os valores de alpha\n",
    "alphas = [0.2, 1, 5]\n",
    "\n",
    "for alpha in alphas:\n",
    "    ridge_model = Ridge(alpha=alpha)\n",
    "    ridge_model.fit(X_train, y_train)\n",
    "    y_pred_ridge = ridge_model.predict(X_test)\n",
    "    mse_ridge = mean_squared_error(y_test, y_pred_ridge)\n",
    "    r2_ridge = r2_score(y_test, y_pred_ridge)\n",
    "    \n",
    "    print(f\"Ridge Regression (alpha={alpha}):\")\n",
    "    print(f\"Mean Squared Error: {mse_ridge}\")\n",
    "    print(f\"R^2 Score: {r2_ridge}\\n\")\n",
    "    results.append((f'Ridge Regression (alpha={alpha})', mse_ridge, r2_ridge,\"Ridge\"))"
   ]
  },
  {
   "cell_type": "code",
   "execution_count": 88,
   "metadata": {},
   "outputs": [],
   "source": [
    "params = [[50, 4, 0.2],\n",
    "          [50, 10, 1],\n",
    "          [50, 10, 0.2],\n",
    "          [50, 10, 0.04],\n",
    "          [200, 4, 1],\n",
    "          [200, 4, 0.2],\n",
    "          [200, 4, 0.04],\n",
    "          [200, 10, 0.2],]"
   ]
  },
  {
   "cell_type": "code",
   "execution_count": 89,
   "metadata": {},
   "outputs": [
    {
     "name": "stdout",
     "output_type": "stream",
     "text": [
      "XGBoost (n_estimators=50, max_depth=4, learning_rate=0.2):\n",
      "  Mean Squared Error: 2.8424383243847024e-08\n",
      "  R^2 Score: 0.8373564779776657\n",
      "\n",
      "XGBoost (n_estimators=50, max_depth=10, learning_rate=1):\n",
      "  Mean Squared Error: 3.6249735110898214e-08\n",
      "  R^2 Score: 0.7925800345346311\n",
      "\n",
      "XGBoost (n_estimators=50, max_depth=10, learning_rate=0.2):\n",
      "  Mean Squared Error: 2.7649701722835755e-08\n",
      "  R^2 Score: 0.8417891838676049\n",
      "\n",
      "XGBoost (n_estimators=50, max_depth=10, learning_rate=0.04):\n",
      "  Mean Squared Error: 3.3060326815347586e-08\n",
      "  R^2 Score: 0.8108297391598983\n",
      "\n",
      "XGBoost (n_estimators=200, max_depth=4, learning_rate=1):\n",
      "  Mean Squared Error: 3.377574027202073e-08\n",
      "  R^2 Score: 0.8067361634683069\n",
      "\n",
      "XGBoost (n_estimators=200, max_depth=4, learning_rate=0.2):\n",
      "  Mean Squared Error: 2.842438421381595e-08\n",
      "  R^2 Score: 0.8373564724275306\n",
      "\n",
      "XGBoost (n_estimators=200, max_depth=4, learning_rate=0.04):\n",
      "  Mean Squared Error: 2.786184227452055e-08\n",
      "  R^2 Score: 0.840575321593311\n",
      "\n",
      "XGBoost (n_estimators=200, max_depth=10, learning_rate=0.2):\n",
      "  Mean Squared Error: 2.7649704215279086e-08\n",
      "  R^2 Score: 0.8417891696059142\n",
      "\n"
     ]
    }
   ],
   "source": [
    "import xgboost as xgb\n",
    "\n",
    "for param in params:\n",
    "    n_estimators, max_depth, learning_rate = param\n",
    "    model = xgb.XGBRegressor(\n",
    "        objective='reg:squarederror',\n",
    "        n_estimators=n_estimators,\n",
    "        max_depth=max_depth,\n",
    "        learning_rate=learning_rate,\n",
    "        random_state=42\n",
    "    )\n",
    "    model.fit(X_train, y_train)\n",
    "    y_pred = model.predict(X_test)\n",
    "    mse = mean_squared_error(y_test, y_pred)\n",
    "    r2 = r2_score(y_test, y_pred)\n",
    "    print(f\"XGBoost (n_estimators={n_estimators}, max_depth={max_depth}, learning_rate={learning_rate}):\")\n",
    "    print(f\"  Mean Squared Error: {mse}\")\n",
    "    print(f\"  R^2 Score: {r2}\\n\")\n",
    "    results.append((f'XGBoost (n_estimators={n_estimators}, max_depth={max_depth}, learning_rate={learning_rate})', mse, r2,\"XGBoost\"))\n"
   ]
  },
  {
   "cell_type": "code",
   "execution_count": 90,
   "metadata": {},
   "outputs": [
    {
     "data": {
      "text/html": [
       "<div>\n",
       "<style scoped>\n",
       "    .dataframe tbody tr th:only-of-type {\n",
       "        vertical-align: middle;\n",
       "    }\n",
       "\n",
       "    .dataframe tbody tr th {\n",
       "        vertical-align: top;\n",
       "    }\n",
       "\n",
       "    .dataframe thead th {\n",
       "        text-align: right;\n",
       "    }\n",
       "</style>\n",
       "<table border=\"1\" class=\"dataframe\">\n",
       "  <thead>\n",
       "    <tr style=\"text-align: right;\">\n",
       "      <th></th>\n",
       "      <th>Model</th>\n",
       "      <th>MSE</th>\n",
       "      <th>R^2</th>\n",
       "      <th>Type</th>\n",
       "    </tr>\n",
       "  </thead>\n",
       "  <tbody>\n",
       "    <tr>\n",
       "      <th>0</th>\n",
       "      <td>XGBoost (n_estimators=50, max_depth=10, learni...</td>\n",
       "      <td>3.624974e-08</td>\n",
       "      <td>0.792580</td>\n",
       "      <td>XGBoost</td>\n",
       "    </tr>\n",
       "    <tr>\n",
       "      <th>1</th>\n",
       "      <td>XGBoost (n_estimators=200, max_depth=4, learni...</td>\n",
       "      <td>3.377574e-08</td>\n",
       "      <td>0.806736</td>\n",
       "      <td>XGBoost</td>\n",
       "    </tr>\n",
       "    <tr>\n",
       "      <th>2</th>\n",
       "      <td>XGBoost (n_estimators=50, max_depth=10, learni...</td>\n",
       "      <td>3.306033e-08</td>\n",
       "      <td>0.810830</td>\n",
       "      <td>XGBoost</td>\n",
       "    </tr>\n",
       "    <tr>\n",
       "      <th>3</th>\n",
       "      <td>Ridge Regression (alpha=5)</td>\n",
       "      <td>3.103104e-08</td>\n",
       "      <td>0.822441</td>\n",
       "      <td>Ridge</td>\n",
       "    </tr>\n",
       "    <tr>\n",
       "      <th>4</th>\n",
       "      <td>Ridge Regression (alpha=1)</td>\n",
       "      <td>3.070554e-08</td>\n",
       "      <td>0.824304</td>\n",
       "      <td>Ridge</td>\n",
       "    </tr>\n",
       "    <tr>\n",
       "      <th>5</th>\n",
       "      <td>Ridge Regression (alpha=0.2)</td>\n",
       "      <td>3.047462e-08</td>\n",
       "      <td>0.825625</td>\n",
       "      <td>Ridge</td>\n",
       "    </tr>\n",
       "    <tr>\n",
       "      <th>6</th>\n",
       "      <td>Linear Regression</td>\n",
       "      <td>3.015932e-08</td>\n",
       "      <td>0.827429</td>\n",
       "      <td>Linear</td>\n",
       "    </tr>\n",
       "    <tr>\n",
       "      <th>7</th>\n",
       "      <td>XGBoost (n_estimators=200, max_depth=4, learni...</td>\n",
       "      <td>2.842438e-08</td>\n",
       "      <td>0.837356</td>\n",
       "      <td>XGBoost</td>\n",
       "    </tr>\n",
       "    <tr>\n",
       "      <th>8</th>\n",
       "      <td>XGBoost (n_estimators=50, max_depth=4, learnin...</td>\n",
       "      <td>2.842438e-08</td>\n",
       "      <td>0.837356</td>\n",
       "      <td>XGBoost</td>\n",
       "    </tr>\n",
       "    <tr>\n",
       "      <th>9</th>\n",
       "      <td>XGBoost (n_estimators=200, max_depth=4, learni...</td>\n",
       "      <td>2.786184e-08</td>\n",
       "      <td>0.840575</td>\n",
       "      <td>XGBoost</td>\n",
       "    </tr>\n",
       "    <tr>\n",
       "      <th>10</th>\n",
       "      <td>XGBoost (n_estimators=200, max_depth=10, learn...</td>\n",
       "      <td>2.764970e-08</td>\n",
       "      <td>0.841789</td>\n",
       "      <td>XGBoost</td>\n",
       "    </tr>\n",
       "    <tr>\n",
       "      <th>11</th>\n",
       "      <td>XGBoost (n_estimators=50, max_depth=10, learni...</td>\n",
       "      <td>2.764970e-08</td>\n",
       "      <td>0.841789</td>\n",
       "      <td>XGBoost</td>\n",
       "    </tr>\n",
       "  </tbody>\n",
       "</table>\n",
       "</div>"
      ],
      "text/plain": [
       "                                                Model           MSE       R^2  \\\n",
       "0   XGBoost (n_estimators=50, max_depth=10, learni...  3.624974e-08  0.792580   \n",
       "1   XGBoost (n_estimators=200, max_depth=4, learni...  3.377574e-08  0.806736   \n",
       "2   XGBoost (n_estimators=50, max_depth=10, learni...  3.306033e-08  0.810830   \n",
       "3                          Ridge Regression (alpha=5)  3.103104e-08  0.822441   \n",
       "4                          Ridge Regression (alpha=1)  3.070554e-08  0.824304   \n",
       "5                        Ridge Regression (alpha=0.2)  3.047462e-08  0.825625   \n",
       "6                                   Linear Regression  3.015932e-08  0.827429   \n",
       "7   XGBoost (n_estimators=200, max_depth=4, learni...  2.842438e-08  0.837356   \n",
       "8   XGBoost (n_estimators=50, max_depth=4, learnin...  2.842438e-08  0.837356   \n",
       "9   XGBoost (n_estimators=200, max_depth=4, learni...  2.786184e-08  0.840575   \n",
       "10  XGBoost (n_estimators=200, max_depth=10, learn...  2.764970e-08  0.841789   \n",
       "11  XGBoost (n_estimators=50, max_depth=10, learni...  2.764970e-08  0.841789   \n",
       "\n",
       "       Type  \n",
       "0   XGBoost  \n",
       "1   XGBoost  \n",
       "2   XGBoost  \n",
       "3     Ridge  \n",
       "4     Ridge  \n",
       "5     Ridge  \n",
       "6    Linear  \n",
       "7   XGBoost  \n",
       "8   XGBoost  \n",
       "9   XGBoost  \n",
       "10  XGBoost  \n",
       "11  XGBoost  "
      ]
     },
     "execution_count": 90,
     "metadata": {},
     "output_type": "execute_result"
    }
   ],
   "source": [
    "# Criar DataFrame com os resultados\n",
    "results_df = pd.DataFrame(results, columns=['Model', 'MSE', 'R^2','Type'])\n",
    "\n",
    "# Ordenar o DataFrame pelo MSE\n",
    "results_df = results_df.sort_values(by='MSE',ascending=False).reset_index(drop=True)\n",
    "\n",
    "# Mostrar o DataFrame ordenado\n",
    "results_df"
   ]
  },
  {
   "cell_type": "code",
   "execution_count": 91,
   "metadata": {},
   "outputs": [
    {
     "data": {
      "text/plain": [
       "<Axes: xlabel='R^2', ylabel='MSE'>"
      ]
     },
     "execution_count": 91,
     "metadata": {},
     "output_type": "execute_result"
    },
    {
     "data": {
      "image/png": "[encoded data removed]",
      "text/plain": [
       "<Figure size 640x480 with 1 Axes>"
      ]
     },
     "metadata": {},
     "output_type": "display_data"
    }
   ],
   "source": [
    "sns.scatterplot(results_df, y= \"MSE\", x=\"R^2\",hue=\"Type\")"
   ]
  },
  {
   "cell_type": "markdown",
   "metadata": {},
   "source": [
    "## Classificação\n"
   ]
  },
  {
   "cell_type": "code",
   "execution_count": 92,
   "metadata": {},
   "outputs": [],
   "source": [
    "classes = {0.0: (-np.inf, -0.0025),\n",
    "           1.0: (-0.0025, -0.0020),\n",
    "           2.0: (-0.0020, -0.0015),\n",
    "           3.0: (-0.0015, -0.0010),\n",
    "           4.0: (-0.0010, -0.0005),\n",
    "           5.0: (-0.0005, np.inf)}\n",
    "           \n",
    "# Create a list of class labels and their corresponding ranges\n",
    "labels, bins = zip(*classes.items())\n",
    "\n",
    "# Quantize the 'Goal' column\n",
    "df['Goal_quantized'] = pd.cut(df['Goal'], bins=[-np.inf, -0.0025, -0.0020, -0.0015, -0.0010, -0.0005, np.inf], labels=labels)"
   ]
  },
  {
   "cell_type": "code",
   "execution_count": 93,
   "metadata": {},
   "outputs": [
    {
     "data": {
      "text/plain": [
       "<Axes: ylabel='Goal_quantized'>"
      ]
     },
     "execution_count": 93,
     "metadata": {},
     "output_type": "execute_result"
    },
    {
     "data": {
      "image/png": "[encoded data removed]",
      "text/plain": [
       "<Figure size 640x480 with 1 Axes>"
      ]
     },
     "metadata": {},
     "output_type": "display_data"
    }
   ],
   "source": [
    "sns.barplot(df['Goal_quantized'])"
   ]
  },
  {
   "cell_type": "code",
   "execution_count": 94,
   "metadata": {},
   "outputs": [],
   "source": [
    "y = df[\"Goal_quantized\"]\n",
    "X_train, X_test, y_train, y_test = train_test_split(X, y, test_size=0.2, random_state=42)"
   ]
  },
  {
   "cell_type": "code",
   "execution_count": 95,
   "metadata": {},
   "outputs": [],
   "source": [
    "from sklearn.linear_model import LogisticRegression\n",
    "from sklearn.metrics import accuracy_score"
   ]
  },
  {
   "cell_type": "code",
   "execution_count": 96,
   "metadata": {},
   "outputs": [],
   "source": [
    "results = []"
   ]
  },
  {
   "cell_type": "code",
   "execution_count": 97,
   "metadata": {},
   "outputs": [
    {
     "name": "stdout",
     "output_type": "stream",
     "text": [
      "Logistic Regression:\n",
      "Accuracy: 0.5461818181818182\n"
     ]
    },
    {
     "name": "stderr",
     "output_type": "stream",
     "text": [
      "/home/igo/miniconda3/envs/igor_env/lib/python3.12/site-packages/sklearn/linear_model/_logistic.py:469: ConvergenceWarning: lbfgs failed to converge (status=1):\n",
      "STOP: TOTAL NO. of ITERATIONS REACHED LIMIT.\n",
      "\n",
      "Increase the number of iterations (max_iter) or scale the data as shown in:\n",
      "    https://scikit-learn.org/stable/modules/preprocessing.html\n",
      "Please also refer to the documentation for alternative solver options:\n",
      "    https://scikit-learn.org/stable/modules/linear_model.html#logistic-regression\n",
      "  n_iter_i = _check_optimize_result(\n"
     ]
    }
   ],
   "source": [
    "# Criar o modelo de regressão linear\n",
    "logistic_model = LogisticRegression()\n",
    "\n",
    "# Ajustar o modelo aos dados de treinamento\n",
    "logistic_model.fit(X_train, y_train)\n",
    "\n",
    "# Fazer previsões nos dados de teste\n",
    "y_pred_linear = logistic_model.predict(X_test)\n",
    "\n",
    "# Avaliar o modelo\n",
    "acc = accuracy_score(y_test, y_pred_linear)\n",
    "\n",
    "print(\"Logistic Regression:\")\n",
    "print(f\"Accuracy: {acc}\")\n",
    "\n",
    "results.append(('Logistic Regression', acc,\"Logistic\"))"
   ]
  },
  {
   "cell_type": "code",
   "execution_count": 98,
   "metadata": {},
   "outputs": [
    {
     "name": "stdout",
     "output_type": "stream",
     "text": [
      "Naive_Bayes:\n",
      "Accuracy: 0.6767272727272727\n"
     ]
    }
   ],
   "source": [
    "from sklearn.naive_bayes import GaussianNB\n",
    "# Criar o modelo de regressão linear\n",
    "Naive_Bayes_model = GaussianNB()\n",
    "\n",
    "# Ajustar o modelo aos dados de treinamento\n",
    "Naive_Bayes_model.fit(X_train, y_train)\n",
    "\n",
    "# Fazer previsões nos dados de teste\n",
    "y_pred_linear = Naive_Bayes_model.predict(X_test)\n",
    "\n",
    "# Avaliar o modelo\n",
    "acc = accuracy_score(y_test, y_pred_linear)\n",
    "\n",
    "print(\"Naive_Bayes:\")\n",
    "print(f\"Accuracy: {acc}\")\n",
    "\n",
    "results.append(('Naive_Bayes Regression', acc,\"Naive_Bayes\"))"
   ]
  },
  {
   "cell_type": "code",
   "execution_count": 99,
   "metadata": {},
   "outputs": [
    {
     "name": "stdout",
     "output_type": "stream",
     "text": [
      "DecisionTree (max_depth=2):\n",
      "  Accuracy: 0.6312727272727273\n",
      "DecisionTree (max_depth=4):\n",
      "  Accuracy: 0.672\n",
      "DecisionTree (max_depth=6):\n",
      "  Accuracy: 0.708\n",
      "DecisionTree (max_depth=8):\n",
      "  Accuracy: 0.712\n",
      "DecisionTree (max_depth=10):\n",
      "  Accuracy: 0.7145454545454546\n",
      "DecisionTree (max_depth=12):\n",
      "  Accuracy: 0.7065454545454546\n",
      "DecisionTree (max_depth=14):\n",
      "  Accuracy: 0.6967272727272728\n",
      "DecisionTree (max_depth=16):\n",
      "  Accuracy: 0.6836363636363636\n",
      "DecisionTree (max_depth=18):\n",
      "  Accuracy: 0.6723636363636364\n"
     ]
    }
   ],
   "source": [
    "from sklearn.tree import DecisionTreeClassifier\n",
    "# Example hyperparameters for DecisionTreeClassifier\n",
    "params_dt = np.arange(2,20,2)\n",
    "\n",
    "for param in params_dt:\n",
    "    max_depth = param\n",
    "    model = DecisionTreeClassifier(\n",
    "        max_depth=max_depth,\n",
    "        random_state=42\n",
    "    )\n",
    "    model.fit(X_train, y_train)\n",
    "    y_pred = model.predict(X_test)\n",
    "    acc = accuracy_score(y_test, y_pred)\n",
    "    print(f\"DecisionTree (max_depth={max_depth}):\")\n",
    "    print(f\"  Accuracy: {acc}\")\n",
    "    results.append((f\"DecisionTree (max_depth={max_depth})\", acc,\"DecisionTree\"))"
   ]
  },
  {
   "cell_type": "code",
   "execution_count": 100,
   "metadata": {},
   "outputs": [
    {
     "name": "stdout",
     "output_type": "stream",
     "text": [
      "KNN (n_neighbors=2):\n",
      "  Accuracy: 0.46654545454545454\n",
      "KNN (n_neighbors=12):\n",
      "  Accuracy: 0.5654545454545454\n",
      "KNN (n_neighbors=22):\n",
      "  Accuracy: 0.5694545454545454\n",
      "KNN (n_neighbors=32):\n",
      "  Accuracy: 0.5643636363636364\n",
      "KNN (n_neighbors=42):\n",
      "  Accuracy: 0.5596363636363636\n",
      "KNN (n_neighbors=52):\n",
      "  Accuracy: 0.5578181818181818\n",
      "KNN (n_neighbors=62):\n",
      "  Accuracy: 0.5516363636363636\n",
      "KNN (n_neighbors=72):\n",
      "  Accuracy: 0.5512727272727272\n",
      "KNN (n_neighbors=82):\n",
      "  Accuracy: 0.5509090909090909\n",
      "KNN (n_neighbors=92):\n",
      "  Accuracy: 0.5501818181818182\n"
     ]
    }
   ],
   "source": [
    "from sklearn.neighbors import KNeighborsClassifier\n",
    "\n",
    "# Example hyperparameters for KNeighborsClassifier\n",
    "params_knn = np.arange(2,100,10)\n",
    "\n",
    "for param in params_knn:\n",
    "    n_neighbors = param\n",
    "    model = KNeighborsClassifier(\n",
    "        n_neighbors=n_neighbors,\n",
    "    )\n",
    "    model.fit(X_train, y_train)\n",
    "    y_pred = model.predict(X_test)\n",
    "    acc = accuracy_score(y_test, y_pred)\n",
    "    print(f\"KNN (n_neighbors={n_neighbors}):\")\n",
    "    print(f\"  Accuracy: {acc}\")\n",
    "    results.append((f'KNN (n_neighbors={n_neighbors})', acc, \"KNN\"))"
   ]
  },
  {
   "cell_type": "code",
   "execution_count": 101,
   "metadata": {},
   "outputs": [
    {
     "name": "stdout",
     "output_type": "stream",
     "text": [
      "XGBoost (n_estimators=50, max_depth=4, learning_rate=0.2):\n",
      "  Accuracy: 0.7458181818181818\n",
      "XGBoost (n_estimators=50, max_depth=10, learning_rate=1):\n",
      "  Accuracy: 0.7396363636363636\n",
      "XGBoost (n_estimators=50, max_depth=10, learning_rate=0.2):\n",
      "  Accuracy: 0.7567272727272727\n",
      "XGBoost (n_estimators=50, max_depth=10, learning_rate=0.04):\n",
      "  Accuracy: 0.7505454545454545\n",
      "XGBoost (n_estimators=200, max_depth=4, learning_rate=1):\n",
      "  Accuracy: 0.7330909090909091\n",
      "XGBoost (n_estimators=200, max_depth=4, learning_rate=0.2):\n",
      "  Accuracy: 0.7632727272727273\n",
      "XGBoost (n_estimators=200, max_depth=4, learning_rate=0.04):\n",
      "  Accuracy: 0.7461818181818182\n",
      "XGBoost (n_estimators=200, max_depth=10, learning_rate=0.2):\n",
      "  Accuracy: 0.7574545454545455\n"
     ]
    }
   ],
   "source": [
    "for param in params:\n",
    "    n_estimators, max_depth, learning_rate = param\n",
    "    model = xgb.XGBClassifier(\n",
    "        objective='multi:softprob',\n",
    "        n_estimators=n_estimators,\n",
    "        max_depth=max_depth,\n",
    "        learning_rate=learning_rate,\n",
    "        random_state=42\n",
    "    )\n",
    "    model.fit(X_train, y_train)\n",
    "    y_pred = model.predict(X_test)\n",
    "    acc = accuracy_score(y_test, y_pred)\n",
    "    print(f\"XGBoost (n_estimators={n_estimators}, max_depth={max_depth}, learning_rate={learning_rate}):\")\n",
    "    print(f\"  Accuracy: {acc}\")\n",
    "    results.append((f'XGBoost (n_estimators={n_estimators}, max_depth={max_depth}, learning_rate={learning_rate})', acc,\"XGBoost\"))\n"
   ]
  },
  {
   "cell_type": "code",
   "execution_count": 102,
   "metadata": {},
   "outputs": [
    {
     "data": {
      "text/html": [
       "<div>\n",
       "<style scoped>\n",
       "    .dataframe tbody tr th:only-of-type {\n",
       "        vertical-align: middle;\n",
       "    }\n",
       "\n",
       "    .dataframe tbody tr th {\n",
       "        vertical-align: top;\n",
       "    }\n",
       "\n",
       "    .dataframe thead th {\n",
       "        text-align: right;\n",
       "    }\n",
       "</style>\n",
       "<table border=\"1\" class=\"dataframe\">\n",
       "  <thead>\n",
       "    <tr style=\"text-align: right;\">\n",
       "      <th></th>\n",
       "      <th>Model</th>\n",
       "      <th>ACC</th>\n",
       "      <th>Type</th>\n",
       "    </tr>\n",
       "  </thead>\n",
       "  <tbody>\n",
       "    <tr>\n",
       "      <th>0</th>\n",
       "      <td>XGBoost (n_estimators=200, max_depth=4, learni...</td>\n",
       "      <td>0.763273</td>\n",
       "      <td>XGBoost</td>\n",
       "    </tr>\n",
       "    <tr>\n",
       "      <th>1</th>\n",
       "      <td>XGBoost (n_estimators=200, max_depth=10, learn...</td>\n",
       "      <td>0.757455</td>\n",
       "      <td>XGBoost</td>\n",
       "    </tr>\n",
       "    <tr>\n",
       "      <th>2</th>\n",
       "      <td>XGBoost (n_estimators=50, max_depth=10, learni...</td>\n",
       "      <td>0.756727</td>\n",
       "      <td>XGBoost</td>\n",
       "    </tr>\n",
       "    <tr>\n",
       "      <th>3</th>\n",
       "      <td>XGBoost (n_estimators=50, max_depth=10, learni...</td>\n",
       "      <td>0.750545</td>\n",
       "      <td>XGBoost</td>\n",
       "    </tr>\n",
       "    <tr>\n",
       "      <th>4</th>\n",
       "      <td>XGBoost (n_estimators=200, max_depth=4, learni...</td>\n",
       "      <td>0.746182</td>\n",
       "      <td>XGBoost</td>\n",
       "    </tr>\n",
       "    <tr>\n",
       "      <th>5</th>\n",
       "      <td>XGBoost (n_estimators=50, max_depth=4, learnin...</td>\n",
       "      <td>0.745818</td>\n",
       "      <td>XGBoost</td>\n",
       "    </tr>\n",
       "    <tr>\n",
       "      <th>6</th>\n",
       "      <td>XGBoost (n_estimators=50, max_depth=10, learni...</td>\n",
       "      <td>0.739636</td>\n",
       "      <td>XGBoost</td>\n",
       "    </tr>\n",
       "    <tr>\n",
       "      <th>7</th>\n",
       "      <td>XGBoost (n_estimators=200, max_depth=4, learni...</td>\n",
       "      <td>0.733091</td>\n",
       "      <td>XGBoost</td>\n",
       "    </tr>\n",
       "    <tr>\n",
       "      <th>8</th>\n",
       "      <td>DecisionTree (max_depth=10)</td>\n",
       "      <td>0.714545</td>\n",
       "      <td>DecisionTree</td>\n",
       "    </tr>\n",
       "    <tr>\n",
       "      <th>9</th>\n",
       "      <td>DecisionTree (max_depth=8)</td>\n",
       "      <td>0.712000</td>\n",
       "      <td>DecisionTree</td>\n",
       "    </tr>\n",
       "    <tr>\n",
       "      <th>10</th>\n",
       "      <td>DecisionTree (max_depth=6)</td>\n",
       "      <td>0.708000</td>\n",
       "      <td>DecisionTree</td>\n",
       "    </tr>\n",
       "    <tr>\n",
       "      <th>11</th>\n",
       "      <td>DecisionTree (max_depth=12)</td>\n",
       "      <td>0.706545</td>\n",
       "      <td>DecisionTree</td>\n",
       "    </tr>\n",
       "    <tr>\n",
       "      <th>12</th>\n",
       "      <td>DecisionTree (max_depth=14)</td>\n",
       "      <td>0.696727</td>\n",
       "      <td>DecisionTree</td>\n",
       "    </tr>\n",
       "    <tr>\n",
       "      <th>13</th>\n",
       "      <td>DecisionTree (max_depth=16)</td>\n",
       "      <td>0.683636</td>\n",
       "      <td>DecisionTree</td>\n",
       "    </tr>\n",
       "    <tr>\n",
       "      <th>14</th>\n",
       "      <td>Naive_Bayes Regression</td>\n",
       "      <td>0.676727</td>\n",
       "      <td>Naive_Bayes</td>\n",
       "    </tr>\n",
       "    <tr>\n",
       "      <th>15</th>\n",
       "      <td>DecisionTree (max_depth=18)</td>\n",
       "      <td>0.672364</td>\n",
       "      <td>DecisionTree</td>\n",
       "    </tr>\n",
       "    <tr>\n",
       "      <th>16</th>\n",
       "      <td>DecisionTree (max_depth=4)</td>\n",
       "      <td>0.672000</td>\n",
       "      <td>DecisionTree</td>\n",
       "    </tr>\n",
       "    <tr>\n",
       "      <th>17</th>\n",
       "      <td>DecisionTree (max_depth=2)</td>\n",
       "      <td>0.631273</td>\n",
       "      <td>DecisionTree</td>\n",
       "    </tr>\n",
       "    <tr>\n",
       "      <th>18</th>\n",
       "      <td>KNN (n_neighbors=22)</td>\n",
       "      <td>0.569455</td>\n",
       "      <td>KNN</td>\n",
       "    </tr>\n",
       "    <tr>\n",
       "      <th>19</th>\n",
       "      <td>KNN (n_neighbors=12)</td>\n",
       "      <td>0.565455</td>\n",
       "      <td>KNN</td>\n",
       "    </tr>\n",
       "    <tr>\n",
       "      <th>20</th>\n",
       "      <td>KNN (n_neighbors=32)</td>\n",
       "      <td>0.564364</td>\n",
       "      <td>KNN</td>\n",
       "    </tr>\n",
       "    <tr>\n",
       "      <th>21</th>\n",
       "      <td>KNN (n_neighbors=42)</td>\n",
       "      <td>0.559636</td>\n",
       "      <td>KNN</td>\n",
       "    </tr>\n",
       "    <tr>\n",
       "      <th>22</th>\n",
       "      <td>KNN (n_neighbors=52)</td>\n",
       "      <td>0.557818</td>\n",
       "      <td>KNN</td>\n",
       "    </tr>\n",
       "    <tr>\n",
       "      <th>23</th>\n",
       "      <td>KNN (n_neighbors=62)</td>\n",
       "      <td>0.551636</td>\n",
       "      <td>KNN</td>\n",
       "    </tr>\n",
       "    <tr>\n",
       "      <th>24</th>\n",
       "      <td>KNN (n_neighbors=72)</td>\n",
       "      <td>0.551273</td>\n",
       "      <td>KNN</td>\n",
       "    </tr>\n",
       "    <tr>\n",
       "      <th>25</th>\n",
       "      <td>KNN (n_neighbors=82)</td>\n",
       "      <td>0.550909</td>\n",
       "      <td>KNN</td>\n",
       "    </tr>\n",
       "    <tr>\n",
       "      <th>26</th>\n",
       "      <td>KNN (n_neighbors=92)</td>\n",
       "      <td>0.550182</td>\n",
       "      <td>KNN</td>\n",
       "    </tr>\n",
       "    <tr>\n",
       "      <th>27</th>\n",
       "      <td>Logistic Regression</td>\n",
       "      <td>0.546182</td>\n",
       "      <td>Logistic</td>\n",
       "    </tr>\n",
       "    <tr>\n",
       "      <th>28</th>\n",
       "      <td>KNN (n_neighbors=2)</td>\n",
       "      <td>0.466545</td>\n",
       "      <td>KNN</td>\n",
       "    </tr>\n",
       "  </tbody>\n",
       "</table>\n",
       "</div>"
      ],
      "text/plain": [
       "                                                Model       ACC          Type\n",
       "0   XGBoost (n_estimators=200, max_depth=4, learni...  0.763273       XGBoost\n",
       "1   XGBoost (n_estimators=200, max_depth=10, learn...  0.757455       XGBoost\n",
       "2   XGBoost (n_estimators=50, max_depth=10, learni...  0.756727       XGBoost\n",
       "3   XGBoost (n_estimators=50, max_depth=10, learni...  0.750545       XGBoost\n",
       "4   XGBoost (n_estimators=200, max_depth=4, learni...  0.746182       XGBoost\n",
       "5   XGBoost (n_estimators=50, max_depth=4, learnin...  0.745818       XGBoost\n",
       "6   XGBoost (n_estimators=50, max_depth=10, learni...  0.739636       XGBoost\n",
       "7   XGBoost (n_estimators=200, max_depth=4, learni...  0.733091       XGBoost\n",
       "8                         DecisionTree (max_depth=10)  0.714545  DecisionTree\n",
       "9                          DecisionTree (max_depth=8)  0.712000  DecisionTree\n",
       "10                         DecisionTree (max_depth=6)  0.708000  DecisionTree\n",
       "11                        DecisionTree (max_depth=12)  0.706545  DecisionTree\n",
       "12                        DecisionTree (max_depth=14)  0.696727  DecisionTree\n",
       "13                        DecisionTree (max_depth=16)  0.683636  DecisionTree\n",
       "14                             Naive_Bayes Regression  0.676727   Naive_Bayes\n",
       "15                        DecisionTree (max_depth=18)  0.672364  DecisionTree\n",
       "16                         DecisionTree (max_depth=4)  0.672000  DecisionTree\n",
       "17                         DecisionTree (max_depth=2)  0.631273  DecisionTree\n",
       "18                               KNN (n_neighbors=22)  0.569455           KNN\n",
       "19                               KNN (n_neighbors=12)  0.565455           KNN\n",
       "20                               KNN (n_neighbors=32)  0.564364           KNN\n",
       "21                               KNN (n_neighbors=42)  0.559636           KNN\n",
       "22                               KNN (n_neighbors=52)  0.557818           KNN\n",
       "23                               KNN (n_neighbors=62)  0.551636           KNN\n",
       "24                               KNN (n_neighbors=72)  0.551273           KNN\n",
       "25                               KNN (n_neighbors=82)  0.550909           KNN\n",
       "26                               KNN (n_neighbors=92)  0.550182           KNN\n",
       "27                                Logistic Regression  0.546182      Logistic\n",
       "28                                KNN (n_neighbors=2)  0.466545           KNN"
      ]
     },
     "execution_count": 102,
     "metadata": {},
     "output_type": "execute_result"
    }
   ],
   "source": [
    "# Criar DataFrame com os resultados\n",
    "results_df = pd.DataFrame(results, columns=['Model', 'ACC','Type'])\n",
    "\n",
    "# Ordenar o DataFrame pelo MSE\n",
    "results_df = results_df.sort_values(by='ACC',ascending=False).reset_index(drop=True)\n",
    "\n",
    "# Mostrar o DataFrame ordenado\n",
    "results_df"
   ]
  },
  {
   "cell_type": "code",
   "execution_count": 106,
   "metadata": {},
   "outputs": [
    {
     "data": {
      "text/plain": [
       "<Axes: xlabel='Type', ylabel='ACC'>"
      ]
     },
     "execution_count": 106,
     "metadata": {},
     "output_type": "execute_result"
    },
    {
     "data": {
      "image/png": "[encoded data removed]",
      "text/plain": [
       "<Figure size 640x480 with 1 Axes>"
      ]
     },
     "metadata": {},
     "output_type": "display_data"
    }
   ],
   "source": [
    "sns.barplot(results_df, y= \"ACC\", x=\"Type\",hue=\"Type\")"
   ]
  }
 ],
 "metadata": {
  "kernelspec": {
   "display_name": "igor_env",
   "language": "python",
   "name": "python3"
  },
  "language_info": {
   "codemirror_mode": {
    "name": "ipython",
    "version": 3
   },
   "file_extension": ".py",
   "mimetype": "text/x-python",
   "name": "python",
   "nbconvert_exporter": "python",
   "pygments_lexer": "ipython3",
   "version": "3.12.0"
  }
 },
 "nbformat": 4,
 "nbformat_minor": 2
}
